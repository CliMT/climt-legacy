{
 "cells": [
  {
   "cell_type": "markdown",
   "metadata": {},
   "source": [
    "# DCMIP test case 4 demo - 3\n",
    "-------\n",
    "\n",
    "Here, the ability of the dynamical core to simulate a tropical cyclone is tested.\n",
    "\n",
    "The main aim here is to simulate a tropical cyclone using a simple physics package \n",
    "(Reed and Jablonowski (2012)).\n",
    "\n",
    "Jablonowski's group provides a fortran file which generates the initial conditions\n",
    "to test any dynamical core. We have written a Cython wrapper around it, and use it to\n",
    "start the simulation. We also have a wrapper around the simple physics package, which\n",
    "provides the tendencies during each time step."
   ]
  },
  {
   "cell_type": "code",
   "execution_count": null,
   "metadata": {
    "collapsed": false
   },
   "outputs": [],
   "source": [
    "#%%file testSimple.py\n",
    "%matplotlib notebook\n",
    "\n",
    "from climt.dynamics import dynamics\n",
    "from climt.dcmip import getTropicalCycloneICs\n",
    "from climt.simple_physics import simple_physics\n",
    "from climt.federation import federation\n",
    "\n",
    "import numpy as np\n",
    "import seaborn as sns\n",
    "import matplotlib.pyplot as plt\n",
    "sns.set_style('whitegrid',rc={'grid.linestyle':'dotted', 'grid.color':'0.0'})\n",
    "# Dynamical core parameters\n",
    "import matplotlib as mpl\n",
    "\n",
    "mpl.rc('text', color='w')\n",
    "\n",
    "kwargs = {}\n",
    "kwargs['dt'] = 1200\n",
    "kwargs['nlon'] = 192\n",
    "kwargs['nlat'] = 94\n",
    "\n",
    "#Init the dynamics Component\n",
    "dycore = dynamics(scheme='gfs', **kwargs)\n",
    "\n",
    "#Get the pressure and lat/lon values; this is needed\n",
    "#to generate the initial conditions\n",
    "pressure = dycore['p']\n",
    "ps = dycore['ps']\n",
    "\n",
    "full_latitudes = dycore.Extension.latitudes\n",
    "full_longitudes = dycore.Extension.longitudes\n",
    "\n",
    "#Get new initial conditions\n",
    "u,v,t,q,phis,ps = getTropicalCycloneICs(pressure, full_longitudes, full_latitudes)\n",
    "#Dynamical core expects virtual temperature\n",
    "theta = t*(1+0.608*q)\n",
    "\n",
    "#Initialise model topography\n",
    "dycore.Extension.set_topography(phis)\n",
    "\n",
    "#Initialise winds, surface pressure and temperature\n",
    "dycore.Extension.initial_conditions(u,v,theta,ps,q)\n",
    "dycore_grid = dycore.Grid\n",
    "#Setup simple physics\n",
    "\n",
    "kwargs['grid'] = dycore_grid\n",
    "kwargs['dt'] = 1200\n",
    "kwargs['U'] = u\n",
    "kwargs['V'] = v\n",
    "kwargs['T'] = t\n",
    "kwargs['ps'] = ps\n",
    "kwargs['pint'] = dycore['pint']\n",
    "\n",
    "phys = simple_physics(**kwargs)\n",
    "\n",
    "#Setup federation\n",
    "kwargs = {}\n",
    "kwargs['U'] = u\n",
    "kwargs['V'] = v\n",
    "kwargs['T'] = t\n",
    "kwargs['ps'] = ps\n",
    "kwargs['pint'] = dycore['pint']\n",
    "kwargs['MonitorFields'] = ['U','ps'] # Display zonal velocity during simulation\n",
    "kwargs['MonitorFreq'] = 1200.*3 #6 hourly update\n",
    "kwargs['grid'] = dycore_grid\n",
    "\n",
    "fed = federation(dycore, phys, **kwargs)\n"
   ]
  },
  {
   "cell_type": "code",
   "execution_count": null,
   "metadata": {
    "collapsed": false
   },
   "outputs": [],
   "source": [
    "import time\n",
    "#Run the code for 10 days. each time step is 1200 seconds = 1/3 hour\n",
    "num_steps = 10*24*3\n",
    "\n",
    "p_min = np.zeros(num_steps)"
   ]
  },
  {
   "cell_type": "code",
   "execution_count": null,
   "metadata": {
    "collapsed": false
   },
   "outputs": [],
   "source": [
    "\n",
    "for i in range(num_steps):\n",
    "    #Go ahead one time step\n",
    "    fed.step()\n",
    "    p_min[i] = np.min(fed['ps'])\n",
    "    \n",
    "\n"
   ]
  },
  {
   "cell_type": "code",
   "execution_count": null,
   "metadata": {
    "collapsed": false
   },
   "outputs": [],
   "source": [
    "del(dycore)\n",
    "del(fed)\n",
    "plt.figure()\n",
    "plt.ioff()\n",
    "\n",
    "plt.plot(p_min)\n",
    "plt.show()"
   ]
  }
 ],
 "metadata": {
  "kernelspec": {
   "display_name": "Python 2",
   "language": "python",
   "name": "python2"
  },
  "language_info": {
   "codemirror_mode": {
    "name": "ipython",
    "version": 2
   },
   "file_extension": ".py",
   "mimetype": "text/x-python",
   "name": "python",
   "nbconvert_exporter": "python",
   "pygments_lexer": "ipython2",
   "version": "2.7.12"
  }
 },
 "nbformat": 4,
 "nbformat_minor": 0
}
