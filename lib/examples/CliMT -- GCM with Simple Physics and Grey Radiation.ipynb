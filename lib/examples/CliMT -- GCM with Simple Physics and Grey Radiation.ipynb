{
 "cells": [
  {
   "cell_type": "markdown",
   "metadata": {},
   "source": [
    "# Moist GCM with large scale condensation only\n",
    "-------\n",
    "\n",
    "Here, CliMT is configured as a simple moist GCM with a grey radiation scheme and\n",
    "the simple physics package (Reed and Jablonowski (2012)) to provide surface fluxes, a\n",
    "boundary layer and large scale condensation.\n",
    "\n",
    "The GCM generates a weak circulation, and the vertical transport of temperature and\n",
    "moisture are limited since no convection is present. The weak circulation is a consequence\n",
    "of no water vapour sensitivity in the radiation scheme."
   ]
  },
  {
   "cell_type": "code",
   "execution_count": null,
   "metadata": {
    "collapsed": false
   },
   "outputs": [],
   "source": [
    "%matplotlib notebook\n",
    "\n",
    "from climt.dynamics import dynamics\n",
    "from climt.simple_physics_custom import simple_physics_custom\n",
    "from climt.federation import federation\n",
    "import climt\n",
    "\n",
    "import numpy as np\n",
    "import seaborn as sns\n",
    "import matplotlib.pyplot as plt\n",
    "sns.set_style('whitegrid',rc={'grid.linestyle':'dotted', 'grid.color':'0.0'})\n",
    "# Dynamical core parameters\n",
    "import matplotlib as mpl\n",
    "\n",
    "global_time_step = 1200.\n",
    "\n",
    "kwargs = {}\n",
    "kwargs['dt'] = global_time_step\n",
    "kwargs['nlon'] = 96\n",
    "kwargs['nlat'] = 44\n",
    "\n",
    "#Init the dynamics Component\n",
    "dycore = dynamics(scheme='gfs', **kwargs)\n",
    "\n",
    "#Get the pressure and lat/lon values\n",
    "pressure = dycore['p']\n",
    "ps = dycore['ps']\n",
    "\n",
    "full_latitudes = dycore.Extension.latitudes\n",
    "full_longitudes = dycore.Extension.longitudes\n",
    "\n",
    "dycore_grid = dycore.Grid"
   ]
  },
  {
   "cell_type": "code",
   "execution_count": null,
   "metadata": {
    "collapsed": false
   },
   "outputs": [],
   "source": [
    "#Setup simple physics\n",
    "\n",
    "kwargs['grid'] = dycore_grid\n",
    "kwargs['dt'] = global_time_step\n",
    "kwargs['p'] = pressure\n",
    "kwargs['pint'] = dycore['pint']\n",
    "kwargs['use_ext_ts'] = True\n",
    "\n",
    "#set surface temperatures\n",
    "eq_pole_temp_gradient = 20.\n",
    "max_temp = 300.\n",
    "\n",
    "delta = eq_pole_temp_gradient/max_temp\n",
    "\n",
    "Ts = 300*(1 - delta*np.sin(full_latitudes)**2)\n",
    "\n",
    "kwargs['Ts'] = Ts\n",
    "\n",
    "phys = simple_physics_custom(**kwargs)\n",
    "\n",
    "#Initialise radiation\n",
    "kwargs = {}\n",
    "#kwargs['UpdateFreq'] = 3600.\n",
    "kwargs['grid'] = dycore_grid\n",
    "\n",
    "rad = climt.radiation(scheme='newgreygas', **kwargs)"
   ]
  },
  {
   "cell_type": "code",
   "execution_count": null,
   "metadata": {
    "collapsed": false
   },
   "outputs": [],
   "source": [
    "#Setup federation\n",
    "kwargs = {}\n",
    "kwargs['Ts'] = Ts\n",
    "kwargs['MonitorFields'] = ['U','T','q','precc'] # Display zonal velocity during simulation\n",
    "kwargs['MonitorFreq'] = 3600.*6 #6 hourly update\n",
    "kwargs['grid'] = dycore_grid\n",
    "\n",
    "fed = federation(dycore, rad, phys, **kwargs)"
   ]
  },
  {
   "cell_type": "code",
   "execution_count": null,
   "metadata": {
    "collapsed": false
   },
   "outputs": [],
   "source": [
    "#Run the code for 10 days. each time step is 1200 seconds = 1/3 hour\n",
    "num_steps = 500*24*3\n",
    "for i in range(num_steps):\n",
    "    #Integrate one time step\n",
    "    fed.step()"
   ]
  },
  {
   "cell_type": "code",
   "execution_count": null,
   "metadata": {
    "collapsed": false
   },
   "outputs": [],
   "source": [
    "del(dycore)\n",
    "del(fed)"
   ]
  }
 ],
 "metadata": {
  "kernelspec": {
   "display_name": "Python 2",
   "language": "python",
   "name": "python2"
  },
  "language_info": {
   "codemirror_mode": {
    "name": "ipython",
    "version": 2
   },
   "file_extension": ".py",
   "mimetype": "text/x-python",
   "name": "python",
   "nbconvert_exporter": "python",
   "pygments_lexer": "ipython2",
   "version": "2.7.12"
  }
 },
 "nbformat": 4,
 "nbformat_minor": 0
}
