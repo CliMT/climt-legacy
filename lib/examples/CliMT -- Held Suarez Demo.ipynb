{
 "cells": [
  {
   "cell_type": "markdown",
   "metadata": {},
   "source": [
    "# Held-Suarez demo\n",
    "-----------------------\n",
    "\n",
    "The Held-Suarez (Held and Suarez (1994)) test case is one of the most famous test cases to study the long-term\n",
    "behaviour (i.e, the climate) of a dynamical core. \n",
    "\n",
    "The test consists of relaxing the temperature field to a prescribed profile which supports\n",
    "a circulation similar to the general circulation of the earth's atmosphere, and generating\n",
    "a steady state by removing energy by friction on the winds at the planet's surface."
   ]
  },
  {
   "cell_type": "code",
   "execution_count": null,
   "metadata": {
    "collapsed": false
   },
   "outputs": [],
   "source": [
    "%matplotlib notebook\n",
    "\n",
    "from climt.held_suarez import held_suarez\n",
    "from climt.dynamics import dynamics\n",
    "from climt.federation import federation\n",
    "import numpy as np\n",
    "\n",
    "#Dynamical core Parameters\n",
    "timestep = 1800.\n",
    "kwargs = {}\n",
    "kwargs['dt'] = timestep\n",
    "kwargs['nlon'] = 92\n",
    "kwargs['nlat'] = 44\n",
    "\n",
    "dycore = dynamics(scheme='gfs', **kwargs)\n",
    "\n",
    "# Intialise Held-Suarez\n",
    "kwargs = {}\n",
    "kwargs['dt'] = timestep\n",
    "\n",
    "dycore_grid = dycore.getGrid()\n",
    "\n",
    "kwargs['grid'] = dycore_grid\n",
    "hs = held_suarez(**kwargs)\n",
    "nhours = 2000*24.\n",
    "nsteps = int((nhours*3600)/kwargs['dt'])\n",
    "print 'Num Steps: ', nsteps\n",
    "\n",
    "kwargs = {}\n",
    "kwargs['dt'] = timestep\n",
    "#kwargs['p'] = dycore['p']\n",
    "#kwargs['U'] = dycore['U']\n",
    "#kwargs['V'] = dycore['V']\n",
    "#kwargs['T'] = dycore['T']\n",
    "#kwargs['ps'] = dycore['ps']\n",
    "#kwargs['pint'] = dycore['pint']\n",
    "kwargs['MonitorFields'] = ['U', 'T', 'V']\n",
    "kwargs['MonitorFreq'] = 3600.*12\n",
    "kwargs['OutputFile'] = 'HS.nc'\n",
    "kwargs['OutputFreq'] = 86400*30.\n",
    "kwargs['OutputFields'] = ['U','T']\n",
    "kwargs['grid'] = dycore_grid\n",
    "\n",
    "fed = federation(dycore, hs, **kwargs)\n",
    "\n",
    "for i in range(nsteps):\n",
    "    fed.step()\n",
    "\n",
    "del(fed)\n",
    "del(dycore)"
   ]
  },
  {
   "cell_type": "code",
   "execution_count": null,
   "metadata": {
    "collapsed": true
   },
   "outputs": [],
   "source": []
  }
 ],
 "metadata": {
  "kernelspec": {
   "display_name": "Python 2",
   "language": "python",
   "name": "python2"
  },
  "language_info": {
   "codemirror_mode": {
    "name": "ipython",
    "version": 2
   },
   "file_extension": ".py",
   "mimetype": "text/x-python",
   "name": "python",
   "nbconvert_exporter": "python",
   "pygments_lexer": "ipython2",
   "version": "2.7.12"
  }
 },
 "nbformat": 4,
 "nbformat_minor": 0
}
